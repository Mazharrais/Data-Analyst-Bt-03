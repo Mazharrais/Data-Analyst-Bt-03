{
 "cells": [
  {
   "cell_type": "code",
   "execution_count": null,
   "id": "95ed125b-9790-4b9c-a62a-190f8580a949",
   "metadata": {},
   "outputs": [],
   "source": [
    "# TASK 01: Write a program that takes two numbers (a = 15 , b = 4) and prints their"
   ]
  },
  {
   "cell_type": "code",
   "execution_count": 152,
   "id": "0f6b7e33-e779-4289-909b-90c2ad257799",
   "metadata": {},
   "outputs": [],
   "source": [
    "a = 15\n",
    "b = 4"
   ]
  },
  {
   "cell_type": "code",
   "execution_count": 17,
   "id": "a9737637-58da-4207-b6d4-24c3a8dac21c",
   "metadata": {},
   "outputs": [
    {
     "name": "stdout",
     "output_type": "stream",
     "text": [
      "19\n"
     ]
    }
   ],
   "source": [
    "print(a+b)"
   ]
  },
  {
   "cell_type": "code",
   "execution_count": 19,
   "id": "253feeea-aa82-404d-b0fb-3128e255871e",
   "metadata": {},
   "outputs": [
    {
     "name": "stdout",
     "output_type": "stream",
     "text": [
      "11\n"
     ]
    }
   ],
   "source": [
    "print(a-b)"
   ]
  },
  {
   "cell_type": "code",
   "execution_count": 21,
   "id": "404ea2df-c070-49bd-aa9f-51a1c6ed23f6",
   "metadata": {},
   "outputs": [
    {
     "name": "stdout",
     "output_type": "stream",
     "text": [
      "60\n"
     ]
    }
   ],
   "source": [
    "print(a*b)"
   ]
  },
  {
   "cell_type": "code",
   "execution_count": 23,
   "id": "9fcf5ea7-95a9-4585-8cc3-8d4ba58d943e",
   "metadata": {},
   "outputs": [
    {
     "name": "stdout",
     "output_type": "stream",
     "text": [
      "3.75\n"
     ]
    }
   ],
   "source": [
    "print(a/b)"
   ]
  },
  {
   "cell_type": "code",
   "execution_count": 27,
   "id": "f3e4de46-ba0b-4766-953c-b2771ceebba3",
   "metadata": {},
   "outputs": [
    {
     "name": "stdout",
     "output_type": "stream",
     "text": [
      "3\n"
     ]
    }
   ],
   "source": [
    "print(a//b)"
   ]
  },
  {
   "cell_type": "code",
   "execution_count": 29,
   "id": "2775873b-3639-450d-966d-5a187382b373",
   "metadata": {},
   "outputs": [
    {
     "name": "stdout",
     "output_type": "stream",
     "text": [
      "3\n"
     ]
    }
   ],
   "source": [
    "print(a%b)"
   ]
  },
  {
   "cell_type": "code",
   "execution_count": null,
   "id": "e3b7361b-c109-4c54-9fde-91902d1d17b8",
   "metadata": {},
   "outputs": [],
   "source": [
    "# TASK 02: Convert the following"
   ]
  },
  {
   "cell_type": "code",
   "execution_count": 154,
   "id": "78cc77c2-33f0-479a-ae23-44755c347a17",
   "metadata": {},
   "outputs": [],
   "source": [
    "num1 = 10\n",
    "num2 = 5.6\n",
    "num3 = 4.43\n",
    "\n",
    "\n"
   ]
  },
  {
   "cell_type": "code",
   "execution_count": 46,
   "id": "1430da50-f684-4002-94a9-03d22415f2ca",
   "metadata": {},
   "outputs": [],
   "source": [
    "num1 = float(num1)"
   ]
  },
  {
   "cell_type": "code",
   "execution_count": 52,
   "id": "e2223084-18e6-4262-aa53-57fb20e52590",
   "metadata": {},
   "outputs": [
    {
     "name": "stdout",
     "output_type": "stream",
     "text": [
      "Integer to float =  10.0\n"
     ]
    }
   ],
   "source": [
    "print('Integer to float = ',num1)"
   ]
  },
  {
   "cell_type": "code",
   "execution_count": 56,
   "id": "acc4d31a-3257-47d6-af9c-9e85bebef72d",
   "metadata": {},
   "outputs": [],
   "source": [
    "num2 = int(num2)\n",
    "num3 = int(num3)"
   ]
  },
  {
   "cell_type": "code",
   "execution_count": 58,
   "id": "575aa954-f41e-4e41-b5fa-34fa6098cc50",
   "metadata": {},
   "outputs": [
    {
     "name": "stdout",
     "output_type": "stream",
     "text": [
      "float to integer =  5\n",
      "float to integer =  4\n"
     ]
    }
   ],
   "source": [
    "print(\"float to integer = \", num2 )\n",
    "print(\"float to integer = \", num3)"
   ]
  },
  {
   "cell_type": "code",
   "execution_count": 60,
   "id": "80ef92bb-73a4-416c-b143-8dfca81331de",
   "metadata": {},
   "outputs": [],
   "source": [
    "num2 =str(num2)\n",
    "num3 = str(num3)"
   ]
  },
  {
   "cell_type": "code",
   "execution_count": 62,
   "id": "106accdc-897b-4000-b37c-af10d3d5948d",
   "metadata": {},
   "outputs": [
    {
     "name": "stdout",
     "output_type": "stream",
     "text": [
      "float to string =  5\n",
      "float to string =  4\n"
     ]
    }
   ],
   "source": [
    "print(\"float to string = \", num2 )\n",
    "print(\"float to string = \", num3)"
   ]
  },
  {
   "cell_type": "code",
   "execution_count": null,
   "id": "46805176-d84f-4845-8d3a-1890c8f93851",
   "metadata": {},
   "outputs": [],
   "source": [
    "# TASK 03 : Indexing in List "
   ]
  },
  {
   "cell_type": "code",
   "execution_count": 66,
   "id": "97884c51-ade2-4dc2-9d0a-60dee46f6c45",
   "metadata": {},
   "outputs": [],
   "source": [
    "fruits = [\"apple\", \"banana\", \"cherry\", \"coconut\", \"pineapple\", \"mango\", \"orange\"]\n"
   ]
  },
  {
   "cell_type": "code",
   "execution_count": 68,
   "id": "57dbaaf5-2ef9-493c-8376-b53290834695",
   "metadata": {},
   "outputs": [
    {
     "name": "stdout",
     "output_type": "stream",
     "text": [
      "first fruit is =  apple\n"
     ]
    }
   ],
   "source": [
    "print(\"first fruit is = \", fruits[0])"
   ]
  },
  {
   "cell_type": "code",
   "execution_count": 70,
   "id": "0097d4db-f963-43d5-a867-f0724eed0306",
   "metadata": {},
   "outputs": [
    {
     "name": "stdout",
     "output_type": "stream",
     "text": [
      "Last fruit is =  orange\n"
     ]
    }
   ],
   "source": [
    "print(\"Last fruit is = \", fruits[-1])"
   ]
  },
  {
   "cell_type": "code",
   "execution_count": 72,
   "id": "3e291ffe-2548-4a62-89bb-c37e39ab9654",
   "metadata": {},
   "outputs": [
    {
     "name": "stdout",
     "output_type": "stream",
     "text": [
      "frouth fruit is =  coconut\n"
     ]
    }
   ],
   "source": [
    "print(\"frouth fruit is = \", fruits[3])"
   ]
  },
  {
   "cell_type": "code",
   "execution_count": null,
   "id": "646edcc3-f1f0-4de3-812b-7a429a464b2f",
   "metadata": {},
   "outputs": [],
   "source": [
    "# TASK 04 : Slicing by positive and negative  indexing"
   ]
  },
  {
   "cell_type": "code",
   "execution_count": 88,
   "id": "22d944e0-b0c5-46cc-82f5-19417d9a7a8d",
   "metadata": {},
   "outputs": [],
   "source": [
    "numbers = [10, 20, 30, 40, 50]"
   ]
  },
  {
   "cell_type": "code",
   "execution_count": 76,
   "id": "b5677793-5667-4f60-9a6c-da49a0a78023",
   "metadata": {},
   "outputs": [
    {
     "name": "stdout",
     "output_type": "stream",
     "text": [
      "Frist three Element is  [10, 20, 30, 40]\n"
     ]
    }
   ],
   "source": [
    "print(\"Frist three Element is \",numbers[0:4])"
   ]
  },
  {
   "cell_type": "code",
   "execution_count": 78,
   "id": "fd28f8c0-bb45-40e7-8f32-f035171373a1",
   "metadata": {},
   "outputs": [
    {
     "name": "stdout",
     "output_type": "stream",
     "text": [
      "Last two Element is  [40, 50]\n"
     ]
    }
   ],
   "source": [
    "print(\"Last two Element is \",numbers[-2:])"
   ]
  },
  {
   "cell_type": "code",
   "execution_count": 80,
   "id": "3b137181-85f1-456e-8fa8-d98b7b87c6a6",
   "metadata": {},
   "outputs": [
    {
     "name": "stdout",
     "output_type": "stream",
     "text": [
      "All Element except first one is  [20, 30, 40, 50]\n"
     ]
    }
   ],
   "source": [
    "print(\"All Element except first one is \",numbers[1:])"
   ]
  },
  {
   "cell_type": "code",
   "execution_count": 82,
   "id": "cc92ee5f-deff-4d5f-8871-b773cb43722a",
   "metadata": {},
   "outputs": [
    {
     "name": "stdout",
     "output_type": "stream",
     "text": [
      "All Element except first last one is  [10, 20, 30, 40]\n"
     ]
    }
   ],
   "source": [
    "print(\"All Element except first last one is \",numbers[:-1])"
   ]
  },
  {
   "cell_type": "code",
   "execution_count": 96,
   "id": "14585db3-cb32-4323-a53c-0d52c20bf9f3",
   "metadata": {},
   "outputs": [],
   "source": [
    "numbers.reverse()"
   ]
  },
  {
   "cell_type": "code",
   "execution_count": 98,
   "id": "f5f60bd4-84c3-4500-9dca-52e323aa1750",
   "metadata": {},
   "outputs": [
    {
     "name": "stdout",
     "output_type": "stream",
     "text": [
      "numbers into reverse is [50, 40, 30, 20, 10]\n"
     ]
    }
   ],
   "source": [
    "print(\"numbers into reverse is\", numbers)"
   ]
  },
  {
   "cell_type": "code",
   "execution_count": 102,
   "id": "3cfd4269-4af9-4e32-94f9-5067f3a2767b",
   "metadata": {},
   "outputs": [
    {
     "name": "stdout",
     "output_type": "stream",
     "text": [
      "Every 2nd Element is =  [10, 30, 50]\n"
     ]
    }
   ],
   "source": [
    "print(\"Every 2nd Element is = \", numbers[::-2])"
   ]
  },
  {
   "cell_type": "code",
   "execution_count": null,
   "id": "5100b4c3-e61b-49c6-a470-012285c13bed",
   "metadata": {},
   "outputs": [],
   "source": [
    "# TASK 05: append method"
   ]
  },
  {
   "cell_type": "code",
   "execution_count": 104,
   "id": "b7b5fec3-b579-4506-a681-76046e394691",
   "metadata": {},
   "outputs": [],
   "source": [
    "num = [1,2,3]"
   ]
  },
  {
   "cell_type": "code",
   "execution_count": 106,
   "id": "43ae44d3-343b-48a8-b26f-9e9eebf93576",
   "metadata": {},
   "outputs": [],
   "source": [
    "num.append(10)"
   ]
  },
  {
   "cell_type": "code",
   "execution_count": 108,
   "id": "107cacce-ffb6-4cb6-8619-b136a560be0b",
   "metadata": {},
   "outputs": [
    {
     "name": "stdout",
     "output_type": "stream",
     "text": [
      "[1, 2, 3, 10]\n"
     ]
    }
   ],
   "source": [
    "print(num)"
   ]
  },
  {
   "cell_type": "code",
   "execution_count": null,
   "id": "669e0be5-f8cc-4f37-b1e0-c43308e7095d",
   "metadata": {},
   "outputs": [],
   "source": [
    "# TASK 06 : Insert the number 99 at index 1 using method"
   ]
  },
  {
   "cell_type": "code",
   "execution_count": 110,
   "id": "a73ff16d-c74a-4d0f-acf5-28c4542c74fb",
   "metadata": {},
   "outputs": [],
   "source": [
    "num.insert(1,99)"
   ]
  },
  {
   "cell_type": "code",
   "execution_count": 112,
   "id": "7697b5e3-23de-41ab-81b6-e4889b20aceb",
   "metadata": {},
   "outputs": [
    {
     "name": "stdout",
     "output_type": "stream",
     "text": [
      "[1, 99, 2, 3, 10]\n"
     ]
    }
   ],
   "source": [
    "print(num)"
   ]
  },
  {
   "cell_type": "code",
   "execution_count": null,
   "id": "dafc7d43-d9c6-458c-a6dc-0a29c8d1244f",
   "metadata": {},
   "outputs": [],
   "source": [
    "# extend method for adding a list [4,5]"
   ]
  },
  {
   "cell_type": "code",
   "execution_count": 116,
   "id": "72b373c3-d2ce-400c-838a-d21d77d46316",
   "metadata": {},
   "outputs": [],
   "source": [
    "num.extend([4,5])"
   ]
  },
  {
   "cell_type": "code",
   "execution_count": 118,
   "id": "7939086a-56e7-4ee4-a4d0-29a2a0e7d16a",
   "metadata": {},
   "outputs": [
    {
     "name": "stdout",
     "output_type": "stream",
     "text": [
      "[1, 99, 2, 3, 10, 4, 5]\n"
     ]
    }
   ],
   "source": [
    "print(num)"
   ]
  },
  {
   "cell_type": "code",
   "execution_count": null,
   "id": "854966ca-3e86-43cb-95fe-ba9078292d14",
   "metadata": {},
   "outputs": [],
   "source": [
    "# TASK 08 : Sort the given list "
   ]
  },
  {
   "cell_type": "code",
   "execution_count": 120,
   "id": "ae7cd5e3-ebad-4e85-9037-fd3a3beb6d21",
   "metadata": {},
   "outputs": [],
   "source": [
    "nums = [4,1,3,2]"
   ]
  },
  {
   "cell_type": "code",
   "execution_count": 122,
   "id": "a118cb8a-5d1b-4081-bb90-8d28ca912a3b",
   "metadata": {},
   "outputs": [],
   "source": [
    "nums.sort()"
   ]
  },
  {
   "cell_type": "code",
   "execution_count": 124,
   "id": "c08f65d9-8b4c-463a-b404-84906b345548",
   "metadata": {},
   "outputs": [
    {
     "name": "stdout",
     "output_type": "stream",
     "text": [
      "[1, 2, 3, 4]\n"
     ]
    }
   ],
   "source": [
    "print(nums)"
   ]
  },
  {
   "cell_type": "code",
   "execution_count": null,
   "id": "54f489ab-ecec-438d-9bfe-262d776ebac6",
   "metadata": {},
   "outputs": [],
   "source": [
    "# TASK 09 : Manage food Order (corrected list biryani was not added to the list)"
   ]
  },
  {
   "cell_type": "code",
   "execution_count": 126,
   "id": "7dcfc66f-c93f-4f5d-9dd3-a31377b21bfd",
   "metadata": {},
   "outputs": [],
   "source": [
    "order = [\"burger\", \"fries\", \"coke\"]"
   ]
  },
  {
   "cell_type": "code",
   "execution_count": 128,
   "id": "f1a433dd-b066-4952-9771-08f7eeeb247d",
   "metadata": {},
   "outputs": [],
   "source": [
    "order.append(\"ice cream\")"
   ]
  },
  {
   "cell_type": "code",
   "execution_count": 130,
   "id": "50c50f53-652d-42c7-8e88-7f3961933eee",
   "metadata": {},
   "outputs": [],
   "source": [
    "order.remove(\"burger\")"
   ]
  },
  {
   "cell_type": "code",
   "execution_count": 132,
   "id": "4d61ab9a-45d5-4050-b47a-9fee842d84ee",
   "metadata": {},
   "outputs": [
    {
     "name": "stdout",
     "output_type": "stream",
     "text": [
      "['fries', 'coke', 'ice cream']\n"
     ]
    }
   ],
   "source": [
    "print(order)"
   ]
  },
  {
   "cell_type": "code",
   "execution_count": null,
   "id": "de7ac831-34d4-4599-a7d7-584c445df953",
   "metadata": {},
   "outputs": [],
   "source": [
    "#TASK 10 : Bus Passengers Entries"
   ]
  },
  {
   "cell_type": "code",
   "execution_count": 136,
   "id": "c215e870-7689-4907-93a4-774e967929e7",
   "metadata": {},
   "outputs": [],
   "source": [
    "passengers = [\"Ali\", \"Zara\", \"Ahmed\"]"
   ]
  },
  {
   "cell_type": "code",
   "execution_count": 138,
   "id": "076ac07f-c827-41f7-aa35-4799db0318e9",
   "metadata": {},
   "outputs": [],
   "source": [
    "passengers.insert(1,\"Sara\")"
   ]
  },
  {
   "cell_type": "code",
   "execution_count": 140,
   "id": "e8a1ed0a-e92b-4698-9838-bdb01bff272b",
   "metadata": {},
   "outputs": [
    {
     "name": "stdout",
     "output_type": "stream",
     "text": [
      "['Ali', 'Sara', 'Zara', 'Ahmed']\n"
     ]
    }
   ],
   "source": [
    "print(passengers)"
   ]
  },
  {
   "cell_type": "code",
   "execution_count": 144,
   "id": "b7e46c94-2f61-4ca5-8146-277c627204df",
   "metadata": {},
   "outputs": [],
   "source": [
    "passengers.remove(\"Zara\")"
   ]
  },
  {
   "cell_type": "code",
   "execution_count": 146,
   "id": "d22266b0-5a7e-4fb9-9fc8-af88b0ab23ed",
   "metadata": {},
   "outputs": [
    {
     "name": "stdout",
     "output_type": "stream",
     "text": [
      "['Ali', 'Sara', 'Ahmed']\n"
     ]
    }
   ],
   "source": [
    "print(passengers)"
   ]
  },
  {
   "cell_type": "code",
   "execution_count": 148,
   "id": "dd8f34ae-7ad9-4939-976a-8251b227dab2",
   "metadata": {},
   "outputs": [],
   "source": [
    "passengers.reverse()"
   ]
  },
  {
   "cell_type": "code",
   "execution_count": 150,
   "id": "01ceeb7e-10dc-4219-8d70-b774983c42b2",
   "metadata": {},
   "outputs": [
    {
     "name": "stdout",
     "output_type": "stream",
     "text": [
      "['Ahmed', 'Sara', 'Ali']\n"
     ]
    }
   ],
   "source": [
    "print(passengers)"
   ]
  },
  {
   "cell_type": "code",
   "execution_count": null,
   "id": "502c0ea8-88a7-4235-8424-40537df6f039",
   "metadata": {},
   "outputs": [],
   "source": []
  }
 ],
 "metadata": {
  "kernelspec": {
   "display_name": "Python [conda env:base] *",
   "language": "python",
   "name": "conda-base-py"
  },
  "language_info": {
   "codemirror_mode": {
    "name": "ipython",
    "version": 3
   },
   "file_extension": ".py",
   "mimetype": "text/x-python",
   "name": "python",
   "nbconvert_exporter": "python",
   "pygments_lexer": "ipython3",
   "version": "3.12.7"
  }
 },
 "nbformat": 4,
 "nbformat_minor": 5
}
